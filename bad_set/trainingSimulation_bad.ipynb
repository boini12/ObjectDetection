{
 "cells": [
  {
   "cell_type": "code",
   "execution_count": null,
   "metadata": {},
   "outputs": [],
   "source": [
    "from ultralytics import YOLO\n",
    "\n",
    "# good model is trained by a training set that contains clear und unclear images\n",
    "# it also contains images from the real world and not just computer generated images\n",
    "\n",
    "# Load a model - this starts a new model from scratch\n",
    "model = YOLO('yolov8n.yaml')\n",
    "\n",
    "#train model  with the training data - this gets set in the .yaml file\n",
    "results = model.train(data='data.yaml', epochs = 3)\n",
    "\n",
    "# evaluates the models performance on the validation set - this also gets set in the .yaml file\n",
    "results = model.val()"
   ]
  }
 ],
 "metadata": {
  "language_info": {
   "name": "python"
  }
 },
 "nbformat": 4,
 "nbformat_minor": 2
}
